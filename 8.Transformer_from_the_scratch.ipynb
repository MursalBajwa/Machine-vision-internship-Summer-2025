{
  "nbformat": 4,
  "nbformat_minor": 0,
  "metadata": {
    "colab": {
      "provenance": []
    },
    "kernelspec": {
      "name": "python3",
      "display_name": "Python 3"
    },
    "language_info": {
      "name": "python"
    }
  },
  "cells": [
    {
      "cell_type": "code",
      "execution_count": null,
      "metadata": {
        "id": "GJekQAG5lPnQ"
      },
      "outputs": [],
      "source": [
        "import torch\n",
        "import torch.nn as nn\n",
        "import math"
      ]
    },
    {
      "cell_type": "code",
      "source": [
        "class input_embedding(nn.Module):\n",
        "  def __init__(self,d_model: int, vocab_size: int):\n",
        "    super().__init__()\n",
        "    self.d_model = d_model\n",
        "    self.vocab_size = vocab_size\n",
        "    self.embedding = nn.Embedding(vocab_size, d_model)\n",
        "  def forward(self, x):\n",
        "    return self.embedding(x)*math.sqrt(self.d_model)"
      ],
      "metadata": {
        "id": "JedJaQtxlrbP"
      },
      "execution_count": null,
      "outputs": []
    },
    {
      "cell_type": "code",
      "source": [
        "class positional_encoding(nn.Module):\n",
        "  def __init__(self, d_model: int,seq_len: int, dropout: float):\n",
        "    super().__init__()\n",
        "    self.d_model = d_model\n",
        "    self.seq_len = seq_len\n",
        "    self.dropout = nn.Dropout(dropout)\n",
        "\n",
        "    pe = torch.zeros(seq_len, d_model)\n",
        "\n",
        "    position = torch.arange(0, seq_len, dtype=torch.float).unsqueeze(1)\n",
        "    div_term = torch.exp((torch.arrange(0,d_model,2).float() * (-math.log(10000.0)/d_model)))\n",
        "\n",
        "    pe[:, 0::2] = torch.sin(position * div_term)\n",
        "    pe[:, 1::2] = torch.cos(position * div_term)\n",
        "\n",
        "    self.register_buffer('pe',pe)\n",
        "\n",
        "  def forward(self, x):\n",
        "    x = x + (self.pe[:, :x.shape[1], :]).requires_grad_(False)\n",
        "    return self.dropout(x)"
      ],
      "metadata": {
        "id": "-2t6ZZ6G-Yi0"
      },
      "execution_count": null,
      "outputs": []
    },
    {
      "cell_type": "code",
      "source": [
        "class Layer_Normalization(nn.Module):\n",
        "  def __init__(self, eps: float = 10**-6)-> None:\n",
        "    super().__init__()\n",
        "    self.eps = eps\n",
        "    self.alphas = nn.Parameter(torch.ones(1))\n",
        "    self.bias = nn.Parameter(torch.zero(1))\n",
        "\n",
        "  def forward(self, x):\n",
        "    mean = x.mean(dim = -1, keepdim = True)\n",
        "    std = x.std(dim = -1, keepdim = True)\n",
        "    return  self.alphas * (x - mean) / (std + self.eps) + self.bias"
      ],
      "metadata": {
        "id": "EH8f2qD1M2er"
      },
      "execution_count": null,
      "outputs": []
    },
    {
      "cell_type": "code",
      "source": [
        "class FeedForwardBlock(nn.Module):\n",
        "  def __init__(self, d_model: int, d_ff: int, dropout: float) ->None:\n",
        "    super().__init__()\n",
        "    self.linear_1 = nn.Linear(d_model, d_ff)\n",
        "    self.dropout = nn.Dropout(dropout)\n",
        "    self.linear_2 = nn.Linear(d_ff, d_model)\n",
        "  def forward(self, x):\n",
        "    return self.linear_2(self.dropout(torch.relu(self.linear_1(x))))"
      ],
      "metadata": {
        "id": "XbAWFK5fYyMw"
      },
      "execution_count": null,
      "outputs": []
    },
    {
      "cell_type": "code",
      "source": [
        "class MultiHeadAttentionBlock(nn.Module):\n",
        "  def __init__(self, d_model: int, h: int, dropout: int)-> None:\n",
        "    super().__init__()\n",
        "    self.d_model = d_model\n",
        "    self.h = h\n",
        "    assert d_model %  h == 0, 'd_model is not dividible by h'\n",
        "\n",
        "    self.d_k = d_model // h\n",
        "    self.w_q = nn.Linear(d_model, d_model)\n",
        "    self.w_k = nn.Linear(d_model, d_model)\n",
        "    self.w_v = nn.Linear(d_model, d_model)\n",
        "\n",
        "    self.w_o = nn.Linear(d_model, d_model)\n",
        "    self.dropout = nn.Dropout(dropout)\n",
        "\n",
        "    @staticmethod\n",
        "    def attention(query, key, value, mask, dropout: nn.Dropout):\n",
        "      d_k = query.shape[-1]\n",
        "      attention_scores = (query @ key.transpose(-2,-1)) / math.sqrt(d_k)\n",
        "      if mask is not None:\n",
        "        attention_scores.masked_fill(mask == 0, 1e-9)\n",
        "      attention_scores = attention_scores.softmax(dim = -1)\n",
        "      if dropout is not None:\n",
        "        attention_scores = dropout(attention_scores)\n",
        "      return (attention_scores @ value), attention_scores\n",
        "    def forward(self, q, k, v, mask):\n",
        "      query = self.w_q(q)\n",
        "      key = self.w_k(k)\n",
        "      value = self.w_v(v)\n",
        "\n",
        "\n",
        "      query = query.view(query.shape[0], query.shape[1], self.h, self.d_k).transpose(1,2)\n",
        "      key = query.view(key.shape[0], key.shape[1], self.h, self.d_k).transpose(1,2)\n",
        "      value = value.view(value.shape[0], key.shape[1], self.h, self.d_k).transpose(1,2)\n",
        "\n",
        "      x, self.attention_scores = MultiHeadAttentionBlock(query, key, value, mask, self.dropout)\n",
        "\n",
        "      x = x.transpose(1,2).contiguous.view(x.shape[0], -1, self.h, self.d_k)\n",
        "\n",
        "      return self.w_o(x)"
      ],
      "metadata": {
        "id": "eoBydItza1hq"
      },
      "execution_count": null,
      "outputs": []
    },
    {
      "cell_type": "code",
      "source": [
        "class ResidualConnection(nn.Module):\n",
        "  def __init__(self, dropout: float) ->None:\n",
        "    super().__init__()\n",
        "    nn.dropout = nn.Dropout(dropout)\n",
        "    nn.norm = Layer_Normalization()\n",
        "\n",
        "  def forward(self, x, sublayer):\n",
        "    return x + self.dropout(sublayer(self.norm(x)))"
      ],
      "metadata": {
        "id": "CGKZgELnxuLB"
      },
      "execution_count": null,
      "outputs": []
    },
    {
      "cell_type": "code",
      "source": [
        "class EncoderBlock(nn.Module):\n",
        "  def __init__(self, self_attention: MultiHeadAttentionBlock, feed_forward: FeedForwardBlock, dropout: float) ->None:\n",
        "    super().__init__()\n",
        "    self.self_attention = self_attention\n",
        "    self.feed_forward  = feed_forward\n",
        "    self.residual_connection = nn.ModuleList([ResidualConnection(dropout) for _ in range(2)])\n",
        "\n",
        "  def forward(self, x, src_mask):\n",
        "    x = self.residual_connection[0](x, lambda x: self.self_attention(x, x, x, src_mask))\n",
        "    x = self.residual_connection[1](x, self.feed_forward)\n",
        "    return x"
      ],
      "metadata": {
        "id": "uW2n9-or0FqA"
      },
      "execution_count": null,
      "outputs": []
    },
    {
      "cell_type": "code",
      "source": [
        "class Encoder(nn.Module):\n",
        "  def __init__(self, layers: nn.ModuleList)->None:\n",
        "    super().__init__()\n",
        "    self.layers = layers\n",
        "    self.norm = Layer_Normalization()\n",
        "\n",
        "  def forward(self, x, mask):\n",
        "    for layer in self.layers:\n",
        "      x = layer(x, mask)\n",
        "    return self.norm(x)"
      ],
      "metadata": {
        "id": "VWq-UOqSOakd"
      },
      "execution_count": null,
      "outputs": []
    },
    {
      "cell_type": "code",
      "source": [
        "class DecoderBlock(nn.Module):\n",
        "  def __init__(self, self_attention: MultiHeadAttentionBlock, cross_attention: MultiHeadAttentionBlock, feed_forward: FeedForwardBlock, dropout: float):\n",
        "    super().__init__()\n",
        "    self.self_attention = self_attention\n",
        "    self.cross_attention = cross_attention\n",
        "    self.feed_forward = feed_forward\n",
        "    self.residual_connections = nn.ModuleList([ResidualConnection(dropout) for _ in range(3)])\n",
        "\n",
        "  def forward(self, x, encoder_output, src_mask, tgt_mask):\n",
        "    super().__init__()\n",
        "    x = self.residual_connections[0](x, lambda x: self.self_attention(x,x,x,tgt_mask))\n",
        "    x = self.residual_connections[1](x, lambda x: self.self_attention(x,encoder_output, encoder_output, src_mask))\n",
        "    x = self.residual_connections[2](x, lambda x: self.self_attention(x, self.feed_forward))\n",
        "    return x"
      ],
      "metadata": {
        "id": "0ApoGBuuauWu"
      },
      "execution_count": null,
      "outputs": []
    },
    {
      "cell_type": "code",
      "source": [
        "class Decoder(nn.Module):\n",
        "  def __init__(self, layers: nn.ModuleList) -> None:\n",
        "    self.layers = layers\n",
        "    self.norm = Layer_Normalization()\n",
        "\n",
        "  def forward(self, x, encoder_output, src_mask, tgt_mask):\n",
        "    for layer in self.layers:\n",
        "      x = layer(x, encoder_output, src_mask, tgt_mask)\n",
        "      return self.norm(x)"
      ],
      "metadata": {
        "id": "5WF5Kt4je5HW"
      },
      "execution_count": null,
      "outputs": []
    },
    {
      "cell_type": "code",
      "source": [
        "class ProjectionLayer(nn.Module):\n",
        "  def __init__(self, d_model: int, vocab_size: int):\n",
        "    super().__init__()\n",
        "    self.proj = nn.Linear(d_model, vocab_size)\n",
        "\n",
        "  def __init__(self, x):\n",
        "    return torch.log_softmax(self.proj(x), dim = -1)"
      ],
      "metadata": {
        "id": "gdzhY1N6imM5"
      },
      "execution_count": null,
      "outputs": []
    },
    {
      "cell_type": "code",
      "source": [
        "class Transformer(nn.Module):\n",
        "  def __init__(self, encoder: Encoder, decoder: Decoder, src_embed: input_embedding, tgt_embed: input_embedding, src_pos: positional_encoding, tgt_pos: positional_encoding, projection_layer: ProjectionLayer):\n",
        "    super().__init__()\n",
        "    self.encoder = encoder\n",
        "    self.decoder = decoder\n",
        "    self.src_embed = src_embed\n",
        "    self.tgt_embed = tgt_embed\n",
        "    self.src_pos = src_pos\n",
        "    self.tgt_pos = tgt_pos\n",
        "    self.projection_layer = projection_layer\n",
        "\n",
        "  def encoder(self, src, src_mask):\n",
        "    src = self.src_embed(src)\n",
        "    src = self.src_pos(src)\n",
        "    return self.encoder(src, src_mask)\n",
        "\n",
        "  def decoder(self, tgt, encoder_output, src_mask, tgt_mask):\n",
        "    src = self.tgt_embed(tgt)\n",
        "    src = self.tgt_pos(src)\n",
        "    return self.decoder(src, encoder_output, src_mask, tgt_mask)\n",
        "\n",
        "  def project(self, x):\n",
        "    return self.projection_layer(x)\n"
      ],
      "metadata": {
        "id": "mS6MJ7hZ79id"
      },
      "execution_count": null,
      "outputs": []
    },
    {
      "cell_type": "code",
      "source": [
        "def build_transformer(src_vocab_size: int, tgt_vocab_size: int, src_seq_len: int, tgt_seq_len: int, d_model: int = 512, N: int = 6, h: int = 8, dropout: float = 0.1, d_ff: int = 2048)-> Transformer:\n",
        "  src_embed = input_embedding(d_model, src_vocab_size)\n",
        "  tgt_embed = input_embedding(d_model, tgt_vocab_size)\n",
        "\n",
        "  src_pos = positional_encoding(d_model, src_seq_len, dropout)\n",
        "  tgt_pos = positional_encoding(d_model, tgt_seq_len, dropout)\n",
        "\n",
        "  encoder_blocks = []\n",
        "  for _ in range(N):\n",
        "    encoder_self_attention = MultiHeadAttentionBlock(d_model, h, dropout)\n",
        "    feed_forward = FeedForwardBlock(d_model, d_ff, dropout)\n",
        "    encoder_block = encoder_block(encoder_self_attention, feed_forward, dropout)\n",
        "    encoder_blocks.append(encoder_block)\n",
        "\n",
        "  decoder_blocks = []\n",
        "  for _ in range(N):\n",
        "    decoder_self_attention = MultiHeadAttentionBlock(d_model, h, dropout)\n",
        "    decoder_cross_attention = MultiHeadAttentionBlock(d_model, h, dropout)\n",
        "    feed_forward = FeedForwardBlock(d_model, d_ff, dropout)\n",
        "    decoder_block = DecoderBlock(decoder_self_attention, decoder_cross_attention, feed_forward, dropout)\n",
        "    decoder_blocks.append(decoder_block)\n",
        "\n",
        "  encoder = Encoder(nn.ModuleList(encoder_blocks))\n",
        "  decoder = Decoder(nn.ModuleList(decoder_blocks))\n",
        "\n",
        "  projection_layer = ProjectionLayer(d_model, tgt_vocab_size)\n",
        "\n",
        "  transformer = Transformer(encoder, decoder, src_embed, tgt_embed, src_pos, tgt_pos, projection_layer)\n",
        "\n",
        "  for p in transformer.parameters:\n",
        "    if p.dim > 1:\n",
        "      nn.init.xavier_uniform_(p)\n",
        "\n",
        "  return transformer"
      ],
      "metadata": {
        "id": "bRNV-fw5nM4T"
      },
      "execution_count": null,
      "outputs": []
    }
  ]
}