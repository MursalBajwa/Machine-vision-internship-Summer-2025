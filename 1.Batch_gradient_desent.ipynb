{
  "nbformat": 4,
  "nbformat_minor": 0,
  "metadata": {
    "colab": {
      "provenance": []
    },
    "kernelspec": {
      "name": "python3",
      "display_name": "Python 3"
    },
    "language_info": {
      "name": "python"
    }
  },
  "cells": [
    {
      "cell_type": "code",
      "execution_count": null,
      "metadata": {
        "id": "_GksWvVlrSUj"
      },
      "outputs": [],
      "source": [
        "import numpy as np\n",
        "import pandas as pd\n",
        "import matplotlib.pyplot as plt"
      ]
    },
    {
      "cell_type": "code",
      "source": [
        "def batch_gradient_descent(X,Y,epochs=100,learning_rate = 0.01):\n",
        "  no_of_features = X.shape[1]\n",
        "  no_of_samples = X.shape[0]\n",
        "\n",
        "  w = np.ones(shape=no_of_features)\n",
        "  b = np.ones(shape=1)\n",
        "\n",
        "  for epoch in range(epochs):\n",
        "    Y_pred = np.dot(w.T, X) + b\n",
        "    loss = np.mean((Y-Y_pred)**2)\n",
        "    dw = -(2/no_of_samples) * np.dot(X, (Y - Y_pred).T)\n",
        "    db = -(2/no_of_samples) * np.sum(Y - Y_pred)\n",
        "    w = w + learning_rate * dw\n",
        "    b = b + learning_rate * db\n",
        "  return w,b\n",
        "\n",
        "\n"
      ],
      "metadata": {
        "id": "PFBkXOOKrwG7"
      },
      "execution_count": null,
      "outputs": []
    },
    {
      "cell_type": "code",
      "source": [],
      "metadata": {
        "colab": {
          "base_uri": "https://localhost:8080/"
        },
        "id": "wV2xRxZxubqZ",
        "outputId": "033e8ab7-0267-4663-8860-dd86558b71fe"
      },
      "execution_count": null,
      "outputs": [
        {
          "output_type": "execute_result",
          "data": {
            "text/plain": [
              "(50,)"
            ]
          },
          "metadata": {},
          "execution_count": 3
        }
      ]
    }
  ]
}