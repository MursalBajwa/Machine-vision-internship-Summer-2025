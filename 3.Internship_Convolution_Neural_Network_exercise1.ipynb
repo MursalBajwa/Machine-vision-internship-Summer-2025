{
  "nbformat": 4,
  "nbformat_minor": 0,
  "metadata": {
    "colab": {
      "provenance": [],
      "gpuType": "T4"
    },
    "kernelspec": {
      "name": "python3",
      "display_name": "Python 3"
    },
    "language_info": {
      "name": "python"
    }
  },
  "cells": [
    {
      "cell_type": "code",
      "execution_count": null,
      "metadata": {
        "id": "F7OYC59U9HwB"
      },
      "outputs": [],
      "source": [
        "import numpy as np\n",
        "import matplotlib.pyplot as plt\n",
        "import torch\n",
        "import torch.nn as nn\n",
        "import sklearn.model_selection as train_test_split\n",
        "from tensorflow.keras.datasets import mnist\n",
        "from torch.utils.data import dataset, DataLoader\n",
        "%matplotlib inline\n",
        "import matplotlib.pyplot as plt\n",
        "\n"
      ]
    },
    {
      "cell_type": "code",
      "source": [
        "(X_train, y_train), (X_test, y_test) = mnist.load_data()\n",
        "N_train = 6000\n",
        "N_test  = 1000\n",
        "\n",
        "X_train = X_train[:N_train]\n",
        "y_train = y_train[:N_train]\n",
        "X_test  = X_test[:N_test]\n",
        "y_test  = y_test[:N_test]\n",
        "\n",
        "X_train.shape"
      ],
      "metadata": {
        "colab": {
          "base_uri": "https://localhost:8080/"
        },
        "id": "drlfgz60Ajaz",
        "outputId": "6a8e0452-f036-4fdd-c0e2-997cc1e54437"
      },
      "execution_count": null,
      "outputs": [
        {
          "output_type": "execute_result",
          "data": {
            "text/plain": [
              "(6000, 28, 28)"
            ]
          },
          "metadata": {},
          "execution_count": 194
        }
      ]
    },
    {
      "cell_type": "code",
      "source": [
        "_, counts_train = np.unique(y_train, return_counts=True)\n",
        "_, counts_test  = np.unique(y_test,  return_counts=True)\n",
        "\n",
        "print(\"Train counts per class:\", counts_train)\n",
        "print(\"Test counts per class: \", counts_test)\n"
      ],
      "metadata": {
        "colab": {
          "base_uri": "https://localhost:8080/"
        },
        "id": "efFC4pKYgwfo",
        "outputId": "ef68346f-c980-42a0-993f-b28bbb298195"
      },
      "execution_count": null,
      "outputs": [
        {
          "output_type": "stream",
          "name": "stdout",
          "text": [
            "Train counts per class: [592 671 581 608 623 514 608 651 551 601]\n",
            "Test counts per class:  [ 85 126 116 107 110  87  87  99  89  94]\n"
          ]
        }
      ]
    },
    {
      "cell_type": "code",
      "source": [
        "np.unique(y_test)"
      ],
      "metadata": {
        "colab": {
          "base_uri": "https://localhost:8080/"
        },
        "id": "DFPM4nTjFbrc",
        "outputId": "edc0a8e0-7883-46ce-eb4d-a335bc858e53"
      },
      "execution_count": null,
      "outputs": [
        {
          "output_type": "execute_result",
          "data": {
            "text/plain": [
              "array([0, 1, 2, 3, 4, 5, 6, 7, 8, 9], dtype=uint8)"
            ]
          },
          "metadata": {},
          "execution_count": 195
        }
      ]
    },
    {
      "cell_type": "code",
      "source": [
        "X_test.shape"
      ],
      "metadata": {
        "colab": {
          "base_uri": "https://localhost:8080/"
        },
        "id": "sjRIog_JB1hm",
        "outputId": "1b0eb1e8-ddf8-432c-cbc9-4cd24c3ff0f1"
      },
      "execution_count": null,
      "outputs": [
        {
          "output_type": "execute_result",
          "data": {
            "text/plain": [
              "(1000, 28, 28)"
            ]
          },
          "metadata": {},
          "execution_count": 196
        }
      ]
    },
    {
      "cell_type": "code",
      "source": [
        "plt.imshow(X_train[0])"
      ],
      "metadata": {
        "colab": {
          "base_uri": "https://localhost:8080/",
          "height": 447
        },
        "id": "SVzI5vitB4TI",
        "outputId": "fce07ec6-4fcb-4f93-86ab-c3d3a541de0f"
      },
      "execution_count": null,
      "outputs": [
        {
          "output_type": "execute_result",
          "data": {
            "text/plain": [
              "<matplotlib.image.AxesImage at 0x7cefaec6e550>"
            ]
          },
          "metadata": {},
          "execution_count": 197
        },
        {
          "output_type": "display_data",
          "data": {
            "text/plain": [
              "<Figure size 640x480 with 1 Axes>"
            ],
            "image/png": "[encoded data removed]"
          },
          "metadata": {}
        }
      ]
    },
    {
      "cell_type": "code",
      "source": [
        "X_train = X_train.reshape(-1,28,28,1)\n",
        "X_test = X_test.reshape(-1, 28, 28, 1)"
      ],
      "metadata": {
        "id": "FgsSrbY-BPZR"
      },
      "execution_count": null,
      "outputs": []
    },
    {
      "cell_type": "code",
      "source": [
        "X_train = X_train.astype('float32')/255.0\n",
        "X_test = X_test.astype('float32')/255.0\n"
      ],
      "metadata": {
        "collapsed": true,
        "id": "1tu0Hwt-whmY"
      },
      "execution_count": null,
      "outputs": []
    },
    {
      "cell_type": "code",
      "source": [
        "class My_Dataset(dataset.Dataset):\n",
        "    def __init__(self,x,y):\n",
        "      self.X = torch.tensor(x, dtype=torch.float32)\n",
        "      self.Y = torch.tensor(y, dtype=torch.float32)\n",
        "\n",
        "    def __getitem__(self,idx):\n",
        "      return self.X[idx], self.Y[idx]\n",
        "\n",
        "    def __len__(self):\n",
        "      return len(self.X)"
      ],
      "metadata": {
        "id": "P4aUQ7ObxPHC"
      },
      "execution_count": null,
      "outputs": []
    },
    {
      "cell_type": "code",
      "source": [
        "training_Dataset = My_Dataset(X_train, y_train)\n",
        "testing_Dataset = My_Dataset(X_test, y_test)\n",
        "\n",
        "training_dataloader = DataLoader(training_Dataset, batch_size=32, shuffle=True)\n",
        "testing_dataloader = DataLoader(testing_Dataset, batch_size = 32, shuffle = True)"
      ],
      "metadata": {
        "id": "izU-AQ8V066Q"
      },
      "execution_count": null,
      "outputs": []
    },
    {
      "cell_type": "code",
      "source": [
        "class my_CNN(nn.Module):\n",
        "    def __init__(self):\n",
        "        super().__init__()\n",
        "        self.net = nn.Sequential(\n",
        "            # input: (batch, 1, 28, 28)\n",
        "            nn.Conv2d(1, 32, kernel_size=3, stride=1),\n",
        "            nn.ReLU(),\n",
        "            nn.MaxPool2d(2, 2),\n",
        "\n",
        "            nn.Conv2d(64, 128, kernel_size=3, stride=1),\n",
        "            nn.ReLU(),\n",
        "            nn.MaxPool2d(2, 2),\n",
        "\n",
        "            nn.Flatten(),\n",
        "            nn.Linear(128*1*1, 10)\n",
        "        )\n",
        "\n",
        "    def forward(self, x):\n",
        "        return self.net(x)"
      ],
      "metadata": {
        "id": "7fuikZdX2Z0B"
      },
      "execution_count": null,
      "outputs": []
    },
    {
      "cell_type": "code",
      "source": [
        "X_train.shape"
      ],
      "metadata": {
        "colab": {
          "base_uri": "https://localhost:8080/"
        },
        "id": "BFVOuwyh-xYZ",
        "outputId": "cf1a671d-ff90-4969-c562-76481666368e"
      },
      "execution_count": null,
      "outputs": [
        {
          "output_type": "execute_result",
          "data": {
            "text/plain": [
              "(6000, 28, 28, 1)"
            ]
          },
          "metadata": {},
          "execution_count": 203
        }
      ]
    },
    {
      "cell_type": "code",
      "source": [
        "input_dim = X_train.shape\n",
        "model = my_CNN()\n",
        "\n",
        "\n",
        "criterion = nn.CrossEntropyLoss()\n",
        "optimizer = torch.optim.SGD(\n",
        "    params= model.parameters(),\n",
        "    lr = 0.05\n",
        ")"
      ],
      "metadata": {
        "id": "um8KX7O49gmL"
      },
      "execution_count": null,
      "outputs": []
    },
    {
      "cell_type": "code",
      "source": [
        "loss_per_epoch = []\n",
        "acc_per_epoch = []\n",
        "\n",
        "for epoch in range(50):\n",
        "    total_cost    = 0.0\n",
        "    total_correct = 0\n",
        "\n",
        "\n",
        "    for batch_x, batch_y in training_dataloader:\n",
        "\n",
        "        optimizer.zero_grad()\n",
        "\n",
        "        if batch_x.dim() == 4 and batch_x.shape[1] == 28:\n",
        "            batch_x = batch_x.permute(0, 3, 1, 2)\n",
        "            batch_y = batch_y.long()\n",
        "\n",
        "\n",
        "        logits = model(batch_x)\n",
        "        loss   = criterion(logits, batch_y)\n",
        "\n",
        "        loss.backward()\n",
        "        optimizer.step()\n",
        "\n",
        "\n",
        "        total_cost    += loss.item()\n",
        "        preds          = torch.argmax(logits, dim=1)\n",
        "        total_correct += (preds == batch_y).sum().item()\n",
        "\n",
        "    avg_cost = total_cost / len(training_dataloader)\n",
        "    acc      = total_correct / len(training_dataloader.dataset)\n",
        "\n",
        "    loss_per_epoch.append(avg_cost)\n",
        "    acc_per_epoch.append(acc)\n",
        "    print(f\"Epoch {epoch+1:2d}: loss={avg_cost:.4f}, acc={acc:.4%}\")"
      ],
      "metadata": {
        "colab": {
          "base_uri": "https://localhost:8080/"
        },
        "id": "ZWwwpWVmCUDz",
        "outputId": "7794c771-1f38-4680-e832-03c06a2c3505"
      },
      "execution_count": null,
      "outputs": [
        {
          "output_type": "stream",
          "name": "stdout",
          "text": [
            "Epoch  1: loss=1.6757, acc=45.6500%\n",
            "Epoch  2: loss=0.4608, acc=86.1000%\n",
            "Epoch  3: loss=0.2670, acc=91.7333%\n",
            "Epoch  4: loss=0.2048, acc=94.0000%\n",
            "Epoch  5: loss=0.1686, acc=94.8333%\n",
            "Epoch  6: loss=0.1427, acc=95.7500%\n",
            "Epoch  7: loss=0.1241, acc=96.5833%\n",
            "Epoch  8: loss=0.1053, acc=96.7833%\n",
            "Epoch  9: loss=0.0933, acc=97.1667%\n",
            "Epoch 10: loss=0.0808, acc=97.6000%\n",
            "Epoch 11: loss=0.0684, acc=98.2167%\n",
            "Epoch 12: loss=0.0610, acc=98.0000%\n",
            "Epoch 13: loss=0.0559, acc=98.4833%\n",
            "Epoch 14: loss=0.0481, acc=98.5667%\n",
            "Epoch 15: loss=0.0637, acc=98.3000%\n",
            "Epoch 16: loss=0.0432, acc=98.9000%\n",
            "Epoch 17: loss=0.0323, acc=99.1500%\n",
            "Epoch 18: loss=0.0295, acc=99.2333%\n",
            "Epoch 19: loss=0.0254, acc=99.3667%\n",
            "Epoch 20: loss=0.0217, acc=99.3500%\n",
            "Epoch 21: loss=0.0212, acc=99.4167%\n",
            "Epoch 22: loss=0.0141, acc=99.6667%\n",
            "Epoch 23: loss=0.0125, acc=99.7000%\n",
            "Epoch 24: loss=0.0097, acc=99.8000%\n",
            "Epoch 25: loss=0.0087, acc=99.8167%\n",
            "Epoch 26: loss=0.0063, acc=99.8333%\n",
            "Epoch 27: loss=0.0080, acc=99.7667%\n",
            "Epoch 28: loss=0.0051, acc=99.8833%\n",
            "Epoch 29: loss=0.0028, acc=99.9833%\n",
            "Epoch 30: loss=0.0021, acc=100.0000%\n",
            "Epoch 31: loss=0.0019, acc=100.0000%\n",
            "Epoch 32: loss=0.0017, acc=100.0000%\n",
            "Epoch 33: loss=0.0015, acc=100.0000%\n",
            "Epoch 34: loss=0.0014, acc=100.0000%\n",
            "Epoch 35: loss=0.0013, acc=100.0000%\n",
            "Epoch 36: loss=0.0012, acc=100.0000%\n",
            "Epoch 37: loss=0.0011, acc=100.0000%\n",
            "Epoch 38: loss=0.0010, acc=100.0000%\n",
            "Epoch 39: loss=0.0010, acc=100.0000%\n",
            "Epoch 40: loss=0.0009, acc=100.0000%\n",
            "Epoch 41: loss=0.0009, acc=100.0000%\n",
            "Epoch 42: loss=0.0008, acc=100.0000%\n",
            "Epoch 43: loss=0.0008, acc=100.0000%\n",
            "Epoch 44: loss=0.0007, acc=100.0000%\n",
            "Epoch 45: loss=0.0007, acc=100.0000%\n",
            "Epoch 46: loss=0.0007, acc=100.0000%\n",
            "Epoch 47: loss=0.0006, acc=100.0000%\n",
            "Epoch 48: loss=0.0006, acc=100.0000%\n",
            "Epoch 49: loss=0.0006, acc=100.0000%\n",
            "Epoch 50: loss=0.0006, acc=100.0000%\n"
          ]
        }
      ]
    },
    {
      "cell_type": "code",
      "source": [
        "model.eval()\n",
        "correct = 0\n",
        "with torch.no_grad():\n",
        "    for batch_x, batch_y in testing_dataloader:\n",
        "          if batch_x.dim() == 4 and batch_x.shape[1] == 28:\n",
        "              batch_x = batch_x.permute(0, 3, 1, 2)\n",
        "              batch_y = batch_y.long()\n",
        "          logits = model(batch_x)\n",
        "          test_preds  = torch.argmax(logits, dim=1)\n",
        "          correct += (test_preds == batch_y).sum().item()\n",
        "    val_accuracy = correct / len(testing_dataloader.dataset)\n",
        "    print(f\"Test Accuracy: {val_accuracy:.4%}\")"
      ],
      "metadata": {
        "colab": {
          "base_uri": "https://localhost:8080/"
        },
        "id": "puUQNfH-SMcA",
        "outputId": "56f9bd14-bbe8-44d4-e701-7948e8037871"
      },
      "execution_count": null,
      "outputs": [
        {
          "output_type": "stream",
          "name": "stdout",
          "text": [
            "Test Accuracy: 96.4000%\n"
          ]
        }
      ]
    },
    {
      "cell_type": "code",
      "source": [
        "plt.plot(loss_per_epoch, label='Training Loss')\n",
        "plt.xlabel('Epoch')\n",
        "plt.ylabel('Loss')\n",
        "plt.legend()\n",
        "plt.show()"
      ],
      "metadata": {
        "colab": {
          "base_uri": "https://localhost:8080/",
          "height": 453
        },
        "id": "ULkE1DnJVSOQ",
        "outputId": "58e6804f-3d9f-4799-8dee-3073d29b5ee5"
      },
      "execution_count": null,
      "outputs": [
        {
          "output_type": "display_data",
          "data": {
            "text/plain": [
              "<Figure size 640x480 with 1 Axes>"
            ],
            "image/png": "[encoded data removed]"
          },
          "metadata": {}
        }
      ]
    },
    {
      "cell_type": "code",
      "source": [
        "plt.plot(acc_per_epoch, label='Training Accuracy')\n",
        "plt.xlabel('Epoch')\n",
        "plt.ylabel('Accuracy')\n",
        "plt.legend()\n",
        "plt.show()"
      ],
      "metadata": {
        "colab": {
          "base_uri": "https://localhost:8080/",
          "height": 449
        },
        "id": "uB_d6AmLW3WA",
        "outputId": "210b1a10-fe6f-4984-aef0-3aeede167ade"
      },
      "execution_count": null,
      "outputs": [
        {
          "output_type": "display_data",
          "data": {
            "text/plain": [
              "<Figure size 640x480 with 1 Axes>"
            ],
            "image/png": "[encoded data removed]"
          },
          "metadata": {}
        }
      ]
    }
  ]
}